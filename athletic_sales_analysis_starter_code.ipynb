{
 "cells": [
  {
   "cell_type": "code",
   "execution_count": null,
   "metadata": {},
   "outputs": [],
   "source": [
    "# Import Libraries and Dependencies\n",
    "import pandas as pd"
   ]
  },
  {
   "cell_type": "markdown",
   "metadata": {},
   "source": [
    "### 1. Combine and Clean the Data\n",
    "#### Import CSVs"
   ]
  },
  {
   "cell_type": "code",
   "execution_count": null,
   "metadata": {},
   "outputs": [],
   "source": [
    "# Read the CSV files into DataFrames.\n",
    "import pandas as pd\n",
    "#from pathlib import Path\n",
    "#athletic_sales_2020_path = Path('Resources/athletic_sales_2020.csv')\n",
    "#athletic_sales_2021_path = Path('Resources/athletic_sales_2021.csv')\n",
    "athletic_sales_2020_df = pd.read_csv('Resource/athletic_sales_2020.csv')\n",
    "athletic_sales_2021_df = pd.read_csv('Resource/athletic_sales_2021.csv')"
   ]
  },
  {
   "cell_type": "code",
   "execution_count": null,
   "metadata": {},
   "outputs": [],
   "source": [
    "# Display the 2020 sales DataFrame\n",
    "athletic_sales_2020_df.head()"
   ]
  },
  {
   "cell_type": "code",
   "execution_count": null,
   "metadata": {},
   "outputs": [],
   "source": [
    "# Display the 2021 sales DataFrame\n",
    "athletic_sales_2021_df.head()"
   ]
  },
  {
   "cell_type": "markdown",
   "metadata": {},
   "source": [
    "#### Check the data types of each DataFrame"
   ]
  },
  {
   "cell_type": "code",
   "execution_count": null,
   "metadata": {},
   "outputs": [],
   "source": [
    "# Check the 2020 sales data types.\n",
    "athletic_sales_2020_df.dtypes"
   ]
  },
  {
   "cell_type": "code",
   "execution_count": null,
   "metadata": {},
   "outputs": [],
   "source": [
    "# Check the 2021 sales data types.\n",
    "athletic_sales_2021_df"
   ]
  },
  {
   "cell_type": "markdown",
   "metadata": {},
   "source": [
    "#### Combine the sales data by rows."
   ]
  },
  {
   "cell_type": "code",
   "execution_count": null,
   "metadata": {},
   "outputs": [],
   "source": [
    "# Combine the 2020 and 2021 sales DataFrames on the rows and reset the index.\n",
    "combined_athletic_sales_2020_2021_df = pd.concat([athletic_sales_2020_df, athletic_sales_2021_df], axis=1)"
   ]
  },
  {
   "cell_type": "code",
   "execution_count": null,
   "metadata": {},
   "outputs": [],
   "source": [
    "# Check if any values are null.\n",
    "combined_athletic_sales_2020_2021_df.loc{\"NaN\"]"
   ]
  },
  {
   "cell_type": "code",
   "execution_count": null,
   "metadata": {},
   "outputs": [],
   "source": [
    "# Check the data type of each column\n",
    "combined_athletic_sales_2020_2021_df.columns.dtypes"
   ]
  },
  {
   "cell_type": "code",
   "execution_count": null,
   "metadata": {},
   "outputs": [],
   "source": [
    "# Convert the \"invoice_date\" to a datetime datatype\n",
    "converted_combined_athletic_sales_2020_2021_df[\"invoice_date\"] = combined_athletic_sales_2020_2021_df.loc[:,\"invoice_date\"\"].astype(datetime)"
   ]
  },
  {
   "cell_type": "code",
   "execution_count": null,
   "metadata": {},
   "outputs": [],
   "source": [
    "# Confirm that the \"invoice_date\" data type has been changed.\n",
    "converted_combined_athletic_sales_2020_2021_df[\"invoice_date\"].head()"
   ]
  },
  {
   "cell_type": "markdown",
   "metadata": {},
   "source": [
    "### 2. Determine which Region Sold the Most Products"
   ]
  },
  {
   "cell_type": "markdown",
   "metadata": {},
   "source": [
    "#### Using `groupby`"
   ]
  },
  {
   "cell_type": "code",
   "execution_count": null,
   "metadata": {},
   "outputs": [],
   "source": [
    "# Show the number products sold for region, state, and city.\n",
    "# Rename the sum to \"Total_Products_Sold\".\n",
    "converted_combined_athletic_sales_2020_2021_df['region','state','city'].count()\n",
    "converted_combined_athletic_sales_2020_2021_df.rename['sum':'Total_Products_Sold']\n",
    "# Show the top 5 results.\n",
    "converted_combined_athletic_sales_2020_2021_df.sort['Total_Products_Sold', ascending=False].head()"
   ]
  },
  {
   "cell_type": "markdown",
   "metadata": {},
   "source": [
    "#### Using `pivot_table`"
   ]
  },
  {
   "cell_type": "code",
   "execution_count": null,
   "metadata": {},
   "outputs": [],
   "source": [
    "# Show the number products sold for region, state, and city.\n",
    "converted_combined_athletic_sales_2020_2021_df.columes['region', 'state', 'city'].count()\n",
    "\n",
    "# Rename the \"units_sold\" column to \"Total_Products_Sold\"\n",
    "converted_combined_athletic_sales_2020_2021_df.rename(\"units_sold\":\"Total_Products_Sold\")\n",
    "\n",
    "# Show the top 5 results.\n",
    "converted_combined_athletic_sales_2020_2021_df.sort['Total_Products_Sold', ascending=False].head()"
   ]
  },
  {
   "cell_type": "code",
   "execution_count": null,
   "metadata": {},
   "outputs": [],
   "source": [
    "# Show the number products sold for region, state, and city.\n",
    "\n",
    "converted_combined_athletic_sales_2020_2021_df.columes['region', 'state', 'city'].count()\n",
    "\n",
    "# Rename the \"units_sold\" column to \"Total_Products_Sold\"\n",
    "converted_combined_athletic_sales_2020_2021_df.rename(column='units_sold':'Total_Products_Sold')\n",
    "\n",
    "# Show the top 5 results.\n",
    "converted_combined_athletic_sales_2020_2021_df.sort['Total_Products_Sold', ascending=False].head()"
   ]
  },
  {
   "cell_type": "markdown",
   "metadata": {},
   "source": [
    "### 3. Determine which Region had the Most Sales"
   ]
  },
  {
   "cell_type": "markdown",
   "metadata": {},
   "source": [
    "#### Using `groupby`"
   ]
  },
  {
   "cell_type": "code",
   "execution_count": null,
   "metadata": {},
   "outputs": [],
   "source": [
    "# Show the total sales for the products sold for each region, state, and city.\n",
    "# Rename the \"total_sales\" column to \"Total Sales\"\n",
    "converted_combined_athletic_sales_2020_2021_df.columns('total_sales').sum\n",
    "converted_combined_athletic_sales_2020_2021_df.rename(column=\"total_sales\":\"Total Sales\")\n",
    "\n",
    "# Show the top 5 results.\n",
    "converted_combined_athletic_sales_2020_2021_df.sort['Total_Sales', ascending=False].head()"
   ]
  },
  {
   "cell_type": "markdown",
   "metadata": {},
   "source": [
    "#### Using `pivot_table`"
   ]
  },
  {
   "cell_type": "code",
   "execution_count": null,
   "metadata": {},
   "outputs": [],
   "source": [
    "# Show the total sales for the products sold for each region, state, and city.\n",
    "total_sales = pd.pivot_table(converted_combined_athletic_sales_2020_2021_df, index=['region', 'state', 'city'], values = \"Total Sales\")\n",
    "\n",
    "# Optional: Rename the \"total_sales\" column to \"Total Sales\"\n",
    "\n",
    "\n",
    "# Show the top 5 results.\n",
    "total_sales.sort[\"Total Sales\", ascending=False].head()"
   ]
  },
  {
   "cell_type": "code",
   "execution_count": null,
   "metadata": {},
   "outputs": [],
   "source": [
    "# Show the total sales for the products sold for each region, state, and city.\n",
    "total_sales.shape()\n",
    "# Rename the \"total_sales\" column to \"Total Sales\"\n",
    "#converted_combined_athletic_sales_2020_2021_df.columns('total_sales').sum\n",
    "#converted_combined_athletic_sales_2020_2021_df.rename(column=\"total_sales\":\"Total Sales\")\n",
    "\n",
    "# Show the top 5 results.\n",
    "total_sales.sort['Total_Sales', ascending=False].head()"
   ]
  },
  {
   "cell_type": "markdown",
   "metadata": {
    "tags": []
   },
   "source": [
    "### 4. Determine which Retailer had the Most Sales"
   ]
  },
  {
   "cell_type": "markdown",
   "metadata": {},
   "source": [
    "#### Using `groupby`"
   ]
  },
  {
   "cell_type": "code",
   "execution_count": null,
   "metadata": {},
   "outputs": [],
   "source": [
    "# Show the total sales for the products sold for each retailer, region, state, and city.\n",
    "grouped_total_sales = total_sales.groupby(['retailer', 'region', 'state', 'city'].('Total Sales').sum()\n",
    "# done previously. Rename the \"total_sales\" column to \"Total Sales\"\n",
    "# done previously. athletic_sales.rename(column=\"total_sales\":\"Total Sales\").columes['retailer','region', 'state', 'city'].sum()\n",
    "# Show the top 5 results.\n",
    "grouped_total_sales.sort['retailer', 'Total Sales', ascending=False].head()"
   ]
  },
  {
   "cell_type": "markdown",
   "metadata": {},
   "source": [
    "#### Using `pivot_table`"
   ]
  },
  {
   "cell_type": "code",
   "execution_count": null,
   "metadata": {},
   "outputs": [],
   "source": [
    "# Show the total sales for the products sold for each retailer, region, state, and city.\n",
    "grouped_total_sales.sum().shape()\n",
    "# Optional: Rename the \"total_sales\" column to \"Total Sales\"\n",
    "\n",
    "\n",
    "# Show the top 5 results.\n",
    "grouped_total_sales.sort['retailer', 'Total Sales', ascending=False].head()"
   ]
  },
  {
   "cell_type": "markdown",
   "metadata": {},
   "source": [
    "### 5. Determine which Retailer Sold the Most Women's Athletic Footwear"
   ]
  },
  {
   "cell_type": "code",
   "execution_count": null,
   "metadata": {},
   "outputs": [],
   "source": [
    "# Filter the sales data to get the women's athletic footwear sales data.\n",
    "women_athletic_footwear = grouped_total_sales.loc['women's athletic footwear']\n",
    "# match name=\"women's athletic footwear\""
   ]
  },
  {
   "cell_type": "markdown",
   "metadata": {},
   "source": [
    "#### Using `groupby`"
   ]
  },
  {
   "cell_type": "code",
   "execution_count": null,
   "metadata": {},
   "outputs": [],
   "source": [
    "# Show the total number of women's athletic footwear sold for each retailer, region, state, and city.\n",
    "women_athletic_footwear.count().shape()\n",
    "# Rename the \"units_sold\" column to \"Womens_Footwear_Units_Sold\"\n",
    "renamed_women_athletic_footwear = women_athletic_footwear.rename(column=\"units_sold\":\"Womens_Footwear_Units_Sold\")\n",
    "# Show the top 5 results.\n",
    "women_athletic_footwear.sort[\"Total Sales\", ascending=False].head()"
   ]
  },
  {
   "cell_type": "markdown",
   "metadata": {},
   "source": [
    "#### Using `pivot_table`"
   ]
  },
  {
   "cell_type": "code",
   "execution_count": null,
   "metadata": {},
   "outputs": [],
   "source": [
    "# Show the total number of women's athletic footwear sold for each retailer, region, state, and city.\n",
    "Womens_Footwear_Units_Sol.columes['retailer','region', 'state', 'city'].sum()\n",
    "total_sales_women_athletic_footwear = women_athletic_footwear.groupby(['retailer', 'region', 'state', 'city'].('Womens_Footwear_Units_Sold').sum()\n",
    "# did. Rename the \"units_sold\" column to \"Womens_Footwear_Units_Sold\"\n",
    "# Show the top 5 results.\n",
    "total_sales_women_athletic_footwear.sort['TWomens_Footwear_Units_Sold', ascending=False].head()"
   ]
  },
  {
   "cell_type": "markdown",
   "metadata": {},
   "source": [
    "### 5. Determine the Day with the Most Women's Athletic Footwear Sales"
   ]
  },
  {
   "cell_type": "code",
   "execution_count": null,
   "metadata": {},
   "outputs": [],
   "source": [
    "# Create a pivot table with the 'invoice_date' column is the index, and the \"total_sales\" as the values.\n",
    "invoice_date = women_athletic_footwear.pivot_table(index='invoice_date', values=\"total_sales\")\n",
    "# Optional: Rename the \"total_sales\" column to \"Total Sales\"\n",
    ".rename(column=\"total_sales\":\"Total Sales\")\n",
    "2nd_renamed_women_athletic_footwear = women_athletic_footwear.rename(column=\"total_sales\":\"Total Sales\")\n",
    "# Show the table.\n",
    "2nd_renamed_women_athletic_footwear.shape"
   ]
  },
  {
   "cell_type": "code",
   "execution_count": null,
   "metadata": {},
   "outputs": [],
   "source": [
    "# Resample the pivot table into daily bins, and get the total sales for each day. \n",
    "resampled_2nd_renamed_women_athletic_footwear = 2nd_renamed_women_athletic_footwear.resample('D').sum()\n",
    "# Sort the resampled pivot table in ascending order on \"Total Sales\".\n",
    "resampled_2nd_renamed_women_athletic_footwear.sort('Total Sales', ascending=True].sum()"
   ]
  },
  {
   "cell_type": "markdown",
   "metadata": {},
   "source": [
    "### 6.  Determine the Week with the Most Women's Athletic Footwear Sales"
   ]
  },
  {
   "cell_type": "code",
   "execution_count": null,
   "metadata": {},
   "outputs": [],
   "source": [
    "# Resample the pivot table into weekly bins, and get the total sales for each week.\n",
    "W_resampled_2nd_renamed_women_athletic_footwear = 2nd_renamed_women_athletic_footwear.resample('W').sum()\n",
    "\n",
    "# Sort the resampled pivot table in ascending order on \"Total Sales\".\n",
    "W_resampled_2nd_renamed_women_athletic_footwear.sort('Total Sales', ascending=True].sum()"
   ]
  },
  {
   "cell_type": "code",
   "execution_count": null,
   "metadata": {},
   "outputs": [],
   "source": []
  }
 ],
 "metadata": {
  "kernelspec": {
   "display_name": "Python 3 (ipykernel)",
   "language": "python",
   "name": "python3"
  },
  "language_info": {
   "codemirror_mode": {
    "name": "ipython",
    "version": 3
   },
   "file_extension": ".py",
   "mimetype": "text/x-python",
   "name": "python",
   "nbconvert_exporter": "python",
   "pygments_lexer": "ipython3",
   "version": "3.10.14"
  }
 },
 "nbformat": 4,
 "nbformat_minor": 4
}
